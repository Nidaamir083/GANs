{
  "cells": [
    {
      "cell_type": "markdown",
      "metadata": {
        "id": "G03_7mSpR5fL"
      },
      "source": [
        "Project Title: Lightweight GAN for MNIST/Fashion-MNIST in PyTorch"
      ]
    },
    {
      "cell_type": "markdown",
      "metadata": {
        "id": "llpE_Ve4R-PA"
      },
      "source": [
        "**Introduction**\n",
        "\n",
        "Generative Adversarial Networks (GANs) are powerful models capable of generating realistic synthetic data. This project implements a lightweight GAN in PyTorch, optimized for Google Colab, using the MNIST/Fashion-MNIST dataset. The goal is to generate handwritten digits or clothing items efficiently on limited computational resources."
      ]
    },
    {
      "cell_type": "markdown",
      "metadata": {
        "id": "qxkqHzXgSNPp"
      },
      "source": [
        "**LOAD NECESSARY LIBRARIES**"
      ]
    },
    {
      "cell_type": "code",
      "execution_count": null,
      "metadata": {
        "id": "I8obvzibxy0V"
      },
      "outputs": [],
      "source": [
        "import torch\n",
        "import torch.nn as nn\n",
        "import torch.optim as optim\n",
        "import torchvision.transforms as transforms\n",
        "import torchvision.datasets as datasets\n",
        "import torchvision.utils as vutils\n",
        "from torch.utils.data import DataLoader\n",
        "import matplotlib.pyplot as plt\n",
        "import numpy as np"
      ]
    },
    {
      "cell_type": "markdown",
      "metadata": {
        "id": "rTsaz_f8SZR3"
      },
      "source": [
        "**Dataset Preparation**\n",
        "\n",
        "The MNIST/Fashion-MNIST dataset is chosen due to its small size and grayscale images.\n",
        "\n",
        "Dataset is loaded using torchvision.datasets and preprocessed using transforms.\n",
        "\n",
        "Images are normalized to (-1, 1) for better GAN training stability."
      ]
    },
    {
      "cell_type": "code",
      "execution_count": null,
      "metadata": {
        "id": "AWH_mVdtx8wT"
      },
      "outputs": [],
      "source": [
        "batch_size = 64\n",
        "image_size = 28\n",
        "latent_dim = 100\n",
        "epochs = 50\n",
        "lr = 0.0002\n",
        "beta1 = 0.5\n",
        "device = torch.device(\"cuda\" if torch.cuda.is_available() else \"cpu\")"
      ]
    },
    {
      "cell_type": "code",
      "execution_count": null,
      "metadata": {
        "colab": {
          "base_uri": "https://localhost:8080/"
        },
        "id": "T3CX3uioynkN",
        "outputId": "daaa326f-50a4-4656-825a-bfc280879fcd"
      },
      "outputs": [
        {
          "name": "stdout",
          "output_type": "stream",
          "text": [
            "Downloading http://yann.lecun.com/exdb/mnist/train-images-idx3-ubyte.gz\n",
            "Failed to download (trying next):\n",
            "HTTP Error 404: Not Found\n",
            "\n",
            "Downloading https://ossci-datasets.s3.amazonaws.com/mnist/train-images-idx3-ubyte.gz\n",
            "Downloading https://ossci-datasets.s3.amazonaws.com/mnist/train-images-idx3-ubyte.gz to ./data/MNIST/raw/train-images-idx3-ubyte.gz\n"
          ]
        },
        {
          "name": "stderr",
          "output_type": "stream",
          "text": [
            "100%|██████████| 9.91M/9.91M [00:00<00:00, 20.5MB/s]\n"
          ]
        },
        {
          "name": "stdout",
          "output_type": "stream",
          "text": [
            "Extracting ./data/MNIST/raw/train-images-idx3-ubyte.gz to ./data/MNIST/raw\n",
            "\n",
            "Downloading http://yann.lecun.com/exdb/mnist/train-labels-idx1-ubyte.gz\n",
            "Failed to download (trying next):\n",
            "HTTP Error 404: Not Found\n",
            "\n",
            "Downloading https://ossci-datasets.s3.amazonaws.com/mnist/train-labels-idx1-ubyte.gz\n",
            "Downloading https://ossci-datasets.s3.amazonaws.com/mnist/train-labels-idx1-ubyte.gz to ./data/MNIST/raw/train-labels-idx1-ubyte.gz\n"
          ]
        },
        {
          "name": "stderr",
          "output_type": "stream",
          "text": [
            "100%|██████████| 28.9k/28.9k [00:00<00:00, 662kB/s]\n"
          ]
        },
        {
          "name": "stdout",
          "output_type": "stream",
          "text": [
            "Extracting ./data/MNIST/raw/train-labels-idx1-ubyte.gz to ./data/MNIST/raw\n",
            "\n",
            "Downloading http://yann.lecun.com/exdb/mnist/t10k-images-idx3-ubyte.gz\n",
            "Failed to download (trying next):\n",
            "HTTP Error 404: Not Found\n",
            "\n",
            "Downloading https://ossci-datasets.s3.amazonaws.com/mnist/t10k-images-idx3-ubyte.gz\n",
            "Downloading https://ossci-datasets.s3.amazonaws.com/mnist/t10k-images-idx3-ubyte.gz to ./data/MNIST/raw/t10k-images-idx3-ubyte.gz\n"
          ]
        },
        {
          "name": "stderr",
          "output_type": "stream",
          "text": [
            "100%|██████████| 1.65M/1.65M [00:00<00:00, 5.72MB/s]\n"
          ]
        },
        {
          "name": "stdout",
          "output_type": "stream",
          "text": [
            "Extracting ./data/MNIST/raw/t10k-images-idx3-ubyte.gz to ./data/MNIST/raw\n",
            "\n",
            "Downloading http://yann.lecun.com/exdb/mnist/t10k-labels-idx1-ubyte.gz\n",
            "Failed to download (trying next):\n",
            "HTTP Error 404: Not Found\n",
            "\n",
            "Downloading https://ossci-datasets.s3.amazonaws.com/mnist/t10k-labels-idx1-ubyte.gz\n",
            "Downloading https://ossci-datasets.s3.amazonaws.com/mnist/t10k-labels-idx1-ubyte.gz to ./data/MNIST/raw/t10k-labels-idx1-ubyte.gz\n"
          ]
        },
        {
          "name": "stderr",
          "output_type": "stream",
          "text": [
            "100%|██████████| 4.54k/4.54k [00:00<00:00, 2.80MB/s]"
          ]
        },
        {
          "name": "stdout",
          "output_type": "stream",
          "text": [
            "Extracting ./data/MNIST/raw/t10k-labels-idx1-ubyte.gz to ./data/MNIST/raw\n",
            "\n"
          ]
        },
        {
          "name": "stderr",
          "output_type": "stream",
          "text": [
            "\n"
          ]
        }
      ],
      "source": [
        "transform = transforms.Compose([\n",
        "    transforms.ToTensor(),\n",
        "    transforms.Normalize((0.5,), (0.5,))\n",
        "])\n",
        "\n",
        "dataset = datasets.MNIST(root=\"./data\", train=True, transform=transform, download=True)\n",
        "dataloader = DataLoader(dataset, batch_size=batch_size, shuffle=True)\n"
      ]
    },
    {
      "cell_type": "markdown",
      "metadata": {
        "id": "nn35JSRoSura"
      },
      "source": [
        "**Building the GAN Architecture**\n",
        "**Generator**\n",
        "\n",
        "The Generator takes a latent vector (latent_dim = 100) as input.\n",
        "\n",
        "It consists of fully connected layers with ReLU activation.\n",
        "\n",
        "The final layer uses Tanh to output an image of shape (1, 28, 28)."
      ]
    },
    {
      "cell_type": "code",
      "execution_count": null,
      "metadata": {
        "id": "-IJ7_xARywi2"
      },
      "outputs": [],
      "source": [
        "class Generator(nn.Module):\n",
        "    def __init__(self, latent_dim):\n",
        "        super(Generator, self).__init__()\n",
        "        self.model = nn.Sequential(\n",
        "            nn.Linear(latent_dim, 128),\n",
        "            nn.ReLU(),\n",
        "            nn.Linear(128, 256),\n",
        "            nn.ReLU(),\n",
        "            nn.Linear(256, 512),\n",
        "            nn.ReLU(),\n",
        "            nn.Linear(512, image_size * image_size),\n",
        "            nn.Tanh()\n",
        "        )\n",
        "\n",
        "    def forward(self, z):\n",
        "        img = self.model(z)\n",
        "        img = img.view(-1, 1, image_size, image_size)\n",
        "        return img"
      ]
    },
    {
      "cell_type": "markdown",
      "metadata": {
        "id": "pO9awR_pTAZo"
      },
      "source": [
        "** Discriminator**\n",
        "\n",
        "The Discriminator takes an image (28x28) and flattens it.\n",
        "\n",
        "It consists of fully connected layers with LeakyReLU activation.\n",
        "\n",
        "The final layer uses Sigmoid activation to classify the image as real or fake"
      ]
    },
    {
      "cell_type": "code",
      "execution_count": null,
      "metadata": {
        "id": "8dyBT4wTy2du"
      },
      "outputs": [],
      "source": [
        "class Discriminator(nn.Module):\n",
        "    def __init__(self):\n",
        "        super(Discriminator, self).__init__()\n",
        "        self.model = nn.Sequential(\n",
        "            nn.Linear(image_size * image_size, 512),\n",
        "            nn.LeakyReLU(0.2),\n",
        "            nn.Linear(512, 256),\n",
        "            nn.LeakyReLU(0.2),\n",
        "            nn.Linear(256, 128),\n",
        "            nn.LeakyReLU(0.2),\n",
        "            nn.Linear(128, 1),\n",
        "            nn.Sigmoid()\n",
        "        )\n",
        "\n",
        "    def forward(self, img):\n",
        "        img_flat = img.view(img.size(0), -1)\n",
        "        validity = self.model(img_flat)\n",
        "        return validity"
      ]
    },
    {
      "cell_type": "code",
      "execution_count": null,
      "metadata": {
        "id": "hE_RDimby8ce"
      },
      "outputs": [],
      "source": [
        "generator = Generator(latent_dim).to(device)\n",
        "discriminator = Discriminator().to(device)"
      ]
    },
    {
      "cell_type": "markdown",
      "metadata": {
        "id": "gbSQVY5YTL2Z"
      },
      "source": [
        "**Defining Loss Function & Optimizers**\n",
        "\n",
        "Binary Cross Entropy (BCE) loss is used for both Generator and Discriminator.\n",
        "\n",
        "Adam optimizer is used with a learning rate of 0.0002 and beta1=0.5."
      ]
    },
    {
      "cell_type": "code",
      "execution_count": null,
      "metadata": {
        "id": "7V-DODHczFH-"
      },
      "outputs": [],
      "source": [
        "criterion = nn.BCELoss()\n",
        "g_optimizer = optim.Adam(generator.parameters(), lr=lr, betas=(beta1, 0.999))\n",
        "d_optimizer = optim.Adam(discriminator.parameters(), lr=lr, betas=(beta1, 0.999))"
      ]
    },
    {
      "cell_type": "markdown",
      "metadata": {
        "id": "YZQiTMOTTVzQ"
      },
      "source": [
        "**Training the GAN**\n",
        "\n",
        "The training loop iterates through the dataset for epochs=50.\n",
        "\n",
        "**Discriminator Training:**\n",
        "\n",
        "Takes real and fake images and computes loss.\n",
        "\n",
        "Updates weights using backpropagation.\n",
        "\n",
        "**Generator Training:**\n",
        "\n",
        "Generates fake images and tries to fool the Discriminator.\n",
        "\n",
        "Updates weights using backpropagation.\n",
        "\n",
        "Loss values are printed every few batches for monitoring."
      ]
    },
    {
      "cell_type": "code",
      "execution_count": null,
      "metadata": {
        "colab": {
          "background_save": true,
          "base_uri": "https://localhost:8080/"
        },
        "id": "YeQBIqbyzJFe",
        "outputId": "d2be8931-865a-4c45-811b-9157656cdaa5"
      },
      "outputs": [
        {
          "name": "stdout",
          "output_type": "stream",
          "text": [
            "Epoch [1/50] Batch 0/938  D Loss: 1.3699, G Loss: 0.6462\n",
            "Epoch [1/50] Batch 100/938  D Loss: 1.0486, G Loss: 0.7926\n",
            "Epoch [1/50] Batch 200/938  D Loss: 1.4054, G Loss: 1.1901\n",
            "Epoch [1/50] Batch 300/938  D Loss: 0.4152, G Loss: 1.6561\n",
            "Epoch [1/50] Batch 400/938  D Loss: 0.7535, G Loss: 2.2704\n",
            "Epoch [1/50] Batch 500/938  D Loss: 0.5322, G Loss: 4.6952\n",
            "Epoch [1/50] Batch 600/938  D Loss: 0.1733, G Loss: 4.4226\n",
            "Epoch [1/50] Batch 700/938  D Loss: 0.5149, G Loss: 5.3389\n",
            "Epoch [1/50] Batch 800/938  D Loss: 0.3226, G Loss: 3.7900\n",
            "Epoch [1/50] Batch 900/938  D Loss: 0.2685, G Loss: 4.0121\n",
            "Epoch [2/50] Batch 0/938  D Loss: 0.5033, G Loss: 1.9464\n",
            "Epoch [2/50] Batch 100/938  D Loss: 0.2187, G Loss: 3.3377\n",
            "Epoch [2/50] Batch 200/938  D Loss: 0.4990, G Loss: 5.8426\n",
            "Epoch [2/50] Batch 300/938  D Loss: 0.5651, G Loss: 3.4577\n",
            "Epoch [2/50] Batch 400/938  D Loss: 0.3938, G Loss: 3.9359\n",
            "Epoch [2/50] Batch 500/938  D Loss: 0.4394, G Loss: 2.6912\n",
            "Epoch [2/50] Batch 600/938  D Loss: 0.2392, G Loss: 3.7531\n",
            "Epoch [2/50] Batch 700/938  D Loss: 0.3885, G Loss: 3.1436\n",
            "Epoch [2/50] Batch 800/938  D Loss: 0.9364, G Loss: 11.5770\n",
            "Epoch [2/50] Batch 900/938  D Loss: 0.1434, G Loss: 5.5799\n",
            "Epoch [3/50] Batch 0/938  D Loss: 0.6229, G Loss: 2.1408\n",
            "Epoch [3/50] Batch 100/938  D Loss: 0.4016, G Loss: 2.5766\n",
            "Epoch [3/50] Batch 200/938  D Loss: 0.0176, G Loss: 5.1482\n",
            "Epoch [3/50] Batch 300/938  D Loss: 0.2219, G Loss: 4.6509\n",
            "Epoch [3/50] Batch 400/938  D Loss: 0.5598, G Loss: 5.3654\n",
            "Epoch [3/50] Batch 500/938  D Loss: 0.0130, G Loss: 6.7011\n",
            "Epoch [3/50] Batch 600/938  D Loss: 2.6157, G Loss: 1.9489\n",
            "Epoch [3/50] Batch 700/938  D Loss: 0.0732, G Loss: 3.6297\n",
            "Epoch [3/50] Batch 800/938  D Loss: 0.0168, G Loss: 3.8924\n",
            "Epoch [3/50] Batch 900/938  D Loss: 0.0943, G Loss: 6.2443\n",
            "Epoch [4/50] Batch 0/938  D Loss: 0.0536, G Loss: 4.5802\n",
            "Epoch [4/50] Batch 100/938  D Loss: 0.1593, G Loss: 2.3849\n",
            "Epoch [4/50] Batch 200/938  D Loss: 0.0281, G Loss: 5.8721\n",
            "Epoch [4/50] Batch 300/938  D Loss: 0.1672, G Loss: 6.5732\n",
            "Epoch [4/50] Batch 400/938  D Loss: 0.2020, G Loss: 3.3936\n",
            "Epoch [4/50] Batch 500/938  D Loss: 0.0971, G Loss: 4.1165\n",
            "Epoch [4/50] Batch 600/938  D Loss: 0.3244, G Loss: 6.1705\n",
            "Epoch [4/50] Batch 700/938  D Loss: 0.3102, G Loss: 10.9217\n",
            "Epoch [4/50] Batch 800/938  D Loss: 0.1635, G Loss: 4.7300\n",
            "Epoch [4/50] Batch 900/938  D Loss: 0.3234, G Loss: 5.6511\n",
            "Epoch [5/50] Batch 0/938  D Loss: 0.5151, G Loss: 2.3741\n",
            "Epoch [5/50] Batch 100/938  D Loss: 0.1483, G Loss: 4.0426\n",
            "Epoch [5/50] Batch 200/938  D Loss: 0.3229, G Loss: 6.2755\n",
            "Epoch [5/50] Batch 300/938  D Loss: 0.6981, G Loss: 9.6418\n",
            "Epoch [5/50] Batch 400/938  D Loss: 0.0444, G Loss: 4.0107\n",
            "Epoch [5/50] Batch 500/938  D Loss: 0.6733, G Loss: 1.7512\n",
            "Epoch [5/50] Batch 600/938  D Loss: 1.0267, G Loss: 4.8119\n",
            "Epoch [5/50] Batch 700/938  D Loss: 0.1075, G Loss: 5.4135\n",
            "Epoch [5/50] Batch 800/938  D Loss: 0.0253, G Loss: 4.1954\n",
            "Epoch [5/50] Batch 900/938  D Loss: 0.1629, G Loss: 3.3551\n",
            "Epoch [6/50] Batch 0/938  D Loss: 0.0997, G Loss: 3.9263\n",
            "Epoch [6/50] Batch 100/938  D Loss: 0.6944, G Loss: 14.5271\n",
            "Epoch [6/50] Batch 200/938  D Loss: 0.2119, G Loss: 3.5322\n",
            "Epoch [6/50] Batch 300/938  D Loss: 0.1553, G Loss: 2.7834\n",
            "Epoch [6/50] Batch 400/938  D Loss: 0.0139, G Loss: 6.0841\n",
            "Epoch [6/50] Batch 500/938  D Loss: 0.1361, G Loss: 3.5222\n",
            "Epoch [6/50] Batch 600/938  D Loss: 0.1452, G Loss: 7.8847\n",
            "Epoch [6/50] Batch 700/938  D Loss: 0.0070, G Loss: 5.8445\n",
            "Epoch [6/50] Batch 800/938  D Loss: 0.0043, G Loss: 6.8607\n",
            "Epoch [6/50] Batch 900/938  D Loss: 0.0028, G Loss: 6.2252\n",
            "Epoch [7/50] Batch 0/938  D Loss: 0.0030, G Loss: 6.2744\n",
            "Epoch [7/50] Batch 100/938  D Loss: 0.0009, G Loss: 7.5034\n",
            "Epoch [7/50] Batch 200/938  D Loss: 0.0008, G Loss: 7.2521\n",
            "Epoch [7/50] Batch 300/938  D Loss: 0.0004, G Loss: 7.8316\n",
            "Epoch [7/50] Batch 400/938  D Loss: 0.0088, G Loss: 7.8857\n",
            "Epoch [7/50] Batch 500/938  D Loss: 0.0002, G Loss: 8.6753\n",
            "Epoch [7/50] Batch 600/938  D Loss: 0.0004, G Loss: 7.8366\n",
            "Epoch [7/50] Batch 700/938  D Loss: 0.0054, G Loss: 6.1526\n",
            "Epoch [7/50] Batch 800/938  D Loss: 0.0010, G Loss: 7.6071\n",
            "Epoch [7/50] Batch 900/938  D Loss: 0.0006, G Loss: 8.1695\n",
            "Epoch [8/50] Batch 0/938  D Loss: 0.0006, G Loss: 7.7496\n",
            "Epoch [8/50] Batch 100/938  D Loss: 0.0008, G Loss: 7.3879\n",
            "Epoch [8/50] Batch 200/938  D Loss: 0.0003, G Loss: 8.1503\n",
            "Epoch [8/50] Batch 300/938  D Loss: 0.0001, G Loss: 9.0013\n",
            "Epoch [8/50] Batch 400/938  D Loss: 0.0002, G Loss: 8.6814\n",
            "Epoch [8/50] Batch 500/938  D Loss: 0.0004, G Loss: 8.0858\n",
            "Epoch [8/50] Batch 600/938  D Loss: 0.0000, G Loss: 15.3596\n",
            "Epoch [8/50] Batch 700/938  D Loss: 0.0000, G Loss: 13.0854\n",
            "Epoch [8/50] Batch 800/938  D Loss: 0.0000, G Loss: 11.6885\n",
            "Epoch [8/50] Batch 900/938  D Loss: 0.0000, G Loss: 10.3410\n",
            "Epoch [9/50] Batch 0/938  D Loss: 0.0000, G Loss: 10.1193\n",
            "Epoch [9/50] Batch 100/938  D Loss: 0.0000, G Loss: 10.2504\n",
            "Epoch [9/50] Batch 200/938  D Loss: 0.0000, G Loss: 10.7320\n",
            "Epoch [9/50] Batch 300/938  D Loss: 0.0001, G Loss: 9.6161\n",
            "Epoch [9/50] Batch 400/938  D Loss: 0.0000, G Loss: 9.9664\n",
            "Epoch [9/50] Batch 500/938  D Loss: 0.0000, G Loss: 10.9786\n",
            "Epoch [9/50] Batch 600/938  D Loss: 0.0000, G Loss: 10.8875\n",
            "Epoch [9/50] Batch 700/938  D Loss: 0.0000, G Loss: 10.5513\n",
            "Epoch [9/50] Batch 800/938  D Loss: 0.0000, G Loss: 10.4403\n",
            "Epoch [9/50] Batch 900/938  D Loss: 0.0002, G Loss: 8.7717\n",
            "Epoch [10/50] Batch 0/938  D Loss: 0.0000, G Loss: 10.1978\n",
            "Epoch [10/50] Batch 100/938  D Loss: 0.0001, G Loss: 9.2044\n",
            "Epoch [10/50] Batch 200/938  D Loss: 0.0000, G Loss: 9.9747\n",
            "Epoch [10/50] Batch 300/938  D Loss: 0.0148, G Loss: 5.6781\n",
            "Epoch [10/50] Batch 400/938  D Loss: 0.0678, G Loss: 3.4443\n",
            "Epoch [10/50] Batch 500/938  D Loss: 0.0025, G Loss: 6.2255\n",
            "Epoch [10/50] Batch 600/938  D Loss: 0.0048, G Loss: 5.7997\n",
            "Epoch [10/50] Batch 700/938  D Loss: 0.0012, G Loss: 6.2048\n",
            "Epoch [10/50] Batch 800/938  D Loss: 0.0003, G Loss: 8.2789\n",
            "Epoch [10/50] Batch 900/938  D Loss: 0.0003, G Loss: 8.6089\n",
            "Epoch [11/50] Batch 0/938  D Loss: 0.0001, G Loss: 9.0982\n",
            "Epoch [11/50] Batch 100/938  D Loss: 0.0519, G Loss: 4.2640\n",
            "Epoch [11/50] Batch 200/938  D Loss: 0.0083, G Loss: 5.3483\n",
            "Epoch [11/50] Batch 300/938  D Loss: 0.0010, G Loss: 7.0393\n",
            "Epoch [11/50] Batch 400/938  D Loss: 0.0005, G Loss: 8.0402\n",
            "Epoch [11/50] Batch 500/938  D Loss: 0.0007, G Loss: 7.5840\n",
            "Epoch [11/50] Batch 600/938  D Loss: 0.0011, G Loss: 6.9711\n",
            "Epoch [11/50] Batch 700/938  D Loss: 0.0052, G Loss: 5.5879\n",
            "Epoch [11/50] Batch 800/938  D Loss: 0.0020, G Loss: 6.8474\n",
            "Epoch [11/50] Batch 900/938  D Loss: 0.0006, G Loss: 7.4649\n",
            "Epoch [12/50] Batch 0/938  D Loss: 0.0006, G Loss: 7.1635\n",
            "Epoch [12/50] Batch 100/938  D Loss: 0.0004, G Loss: 7.9253\n",
            "Epoch [12/50] Batch 200/938  D Loss: 0.0003, G Loss: 8.0472\n",
            "Epoch [12/50] Batch 300/938  D Loss: 0.0002, G Loss: 8.4194\n",
            "Epoch [12/50] Batch 400/938  D Loss: 0.0003, G Loss: 9.0268\n",
            "Epoch [12/50] Batch 500/938  D Loss: 0.0001, G Loss: 8.8566\n",
            "Epoch [12/50] Batch 600/938  D Loss: 0.0005, G Loss: 7.7465\n",
            "Epoch [12/50] Batch 700/938  D Loss: 0.0043, G Loss: 5.6024\n",
            "Epoch [12/50] Batch 800/938  D Loss: 0.0007, G Loss: 7.3444\n",
            "Epoch [12/50] Batch 900/938  D Loss: 0.0007, G Loss: 7.3842\n",
            "Epoch [13/50] Batch 0/938  D Loss: 0.0009, G Loss: 7.2004\n",
            "Epoch [13/50] Batch 100/938  D Loss: 0.0008, G Loss: 7.3480\n",
            "Epoch [13/50] Batch 200/938  D Loss: 0.0001, G Loss: 8.9253\n",
            "Epoch [13/50] Batch 300/938  D Loss: 0.0003, G Loss: 8.3115\n",
            "Epoch [13/50] Batch 400/938  D Loss: 0.0000, G Loss: 26.6198\n",
            "Epoch [13/50] Batch 500/938  D Loss: 0.0027, G Loss: 5.9941\n",
            "Epoch [13/50] Batch 600/938  D Loss: 0.0021, G Loss: 6.7127\n",
            "Epoch [13/50] Batch 700/938  D Loss: 0.0005, G Loss: 7.5601\n",
            "Epoch [13/50] Batch 800/938  D Loss: 0.0005, G Loss: 7.5428\n",
            "Epoch [13/50] Batch 900/938  D Loss: 0.0004, G Loss: 8.1215\n",
            "Epoch [14/50] Batch 0/938  D Loss: 0.0003, G Loss: 8.1211\n",
            "Epoch [14/50] Batch 100/938  D Loss: 0.0002, G Loss: 8.4359\n",
            "Epoch [14/50] Batch 200/938  D Loss: 0.0001, G Loss: 8.8731\n",
            "Epoch [14/50] Batch 300/938  D Loss: 0.0003, G Loss: 8.2969\n",
            "Epoch [14/50] Batch 400/938  D Loss: 0.0002, G Loss: 8.4243\n",
            "Epoch [14/50] Batch 500/938  D Loss: 0.0003, G Loss: 8.0803\n",
            "Epoch [14/50] Batch 600/938  D Loss: 0.0001, G Loss: 9.1799\n",
            "Epoch [14/50] Batch 700/938  D Loss: 0.0001, G Loss: 9.4671\n",
            "Epoch [14/50] Batch 800/938  D Loss: 0.0001, G Loss: 9.7772\n",
            "Epoch [14/50] Batch 900/938  D Loss: 0.0002, G Loss: 7.6825\n",
            "Epoch [15/50] Batch 0/938  D Loss: 0.0001, G Loss: 9.3437\n",
            "Epoch [15/50] Batch 100/938  D Loss: 0.0001, G Loss: 9.7555\n",
            "Epoch [15/50] Batch 200/938  D Loss: 0.0001, G Loss: 9.2612\n",
            "Epoch [15/50] Batch 300/938  D Loss: 0.0001, G Loss: 9.9184\n",
            "Epoch [15/50] Batch 400/938  D Loss: 0.0001, G Loss: 9.6477\n",
            "Epoch [15/50] Batch 500/938  D Loss: 0.0000, G Loss: 10.4778\n",
            "Epoch [15/50] Batch 600/938  D Loss: 0.0000, G Loss: 10.0644\n",
            "Epoch [15/50] Batch 700/938  D Loss: 0.0001, G Loss: 9.7102\n",
            "Epoch [15/50] Batch 800/938  D Loss: 0.0000, G Loss: 10.7030\n",
            "Epoch [15/50] Batch 900/938  D Loss: 0.0000, G Loss: 11.0377\n",
            "Epoch [16/50] Batch 0/938  D Loss: 0.0001, G Loss: 9.7201\n",
            "Epoch [16/50] Batch 100/938  D Loss: 0.0000, G Loss: 10.9218\n",
            "Epoch [16/50] Batch 200/938  D Loss: 0.0000, G Loss: 11.3416\n",
            "Epoch [16/50] Batch 300/938  D Loss: 0.0000, G Loss: 11.3782\n",
            "Epoch [16/50] Batch 400/938  D Loss: 0.0000, G Loss: 11.6235\n",
            "Epoch [16/50] Batch 500/938  D Loss: 0.0000, G Loss: 11.6117\n",
            "Epoch [16/50] Batch 600/938  D Loss: 0.0000, G Loss: 11.3194\n",
            "Epoch [16/50] Batch 700/938  D Loss: 0.0000, G Loss: 11.4861\n",
            "Epoch [16/50] Batch 800/938  D Loss: 0.0000, G Loss: 11.4773\n",
            "Epoch [16/50] Batch 900/938  D Loss: 0.0000, G Loss: 12.2741\n",
            "Epoch [17/50] Batch 0/938  D Loss: 0.0000, G Loss: 12.4059\n",
            "Epoch [17/50] Batch 100/938  D Loss: 0.0000, G Loss: 11.8231\n",
            "Epoch [17/50] Batch 200/938  D Loss: 0.0000, G Loss: 12.3255\n",
            "Epoch [17/50] Batch 300/938  D Loss: 0.0000, G Loss: 12.7190\n",
            "Epoch [17/50] Batch 400/938  D Loss: 0.0000, G Loss: 12.8128\n",
            "Epoch [17/50] Batch 500/938  D Loss: 0.0000, G Loss: 12.9640\n",
            "Epoch [17/50] Batch 600/938  D Loss: 0.0000, G Loss: 12.3547\n",
            "Epoch [17/50] Batch 700/938  D Loss: 0.0000, G Loss: 12.5007\n",
            "Epoch [17/50] Batch 800/938  D Loss: 0.0000, G Loss: 12.9784\n",
            "Epoch [17/50] Batch 900/938  D Loss: 0.0000, G Loss: 12.2860\n",
            "Epoch [18/50] Batch 0/938  D Loss: 0.0000, G Loss: 12.6245\n",
            "Epoch [18/50] Batch 100/938  D Loss: 0.0000, G Loss: 13.0915\n",
            "Epoch [18/50] Batch 200/938  D Loss: 0.0001, G Loss: 13.3162\n",
            "Epoch [18/50] Batch 300/938  D Loss: 0.0000, G Loss: 13.4411\n",
            "Epoch [18/50] Batch 400/938  D Loss: 0.0470, G Loss: 3.5516\n",
            "Epoch [18/50] Batch 500/938  D Loss: 0.0076, G Loss: 5.7339\n",
            "Epoch [18/50] Batch 600/938  D Loss: 0.0013, G Loss: 7.4309\n",
            "Epoch [18/50] Batch 700/938  D Loss: 0.0004, G Loss: 8.2049\n",
            "Epoch [18/50] Batch 800/938  D Loss: 0.0002, G Loss: 8.8198\n",
            "Epoch [18/50] Batch 900/938  D Loss: 0.0002, G Loss: 8.8534\n",
            "Epoch [19/50] Batch 0/938  D Loss: 0.0002, G Loss: 8.8797\n",
            "Epoch [19/50] Batch 100/938  D Loss: 0.0002, G Loss: 9.1397\n",
            "Epoch [19/50] Batch 200/938  D Loss: 0.0001, G Loss: 9.4736\n",
            "Epoch [19/50] Batch 300/938  D Loss: 0.0001, G Loss: 9.6727\n",
            "Epoch [19/50] Batch 400/938  D Loss: 0.0001, G Loss: 9.8743\n",
            "Epoch [19/50] Batch 500/938  D Loss: 0.0001, G Loss: 10.0257\n",
            "Epoch [19/50] Batch 600/938  D Loss: 0.0001, G Loss: 10.2148\n",
            "Epoch [19/50] Batch 700/938  D Loss: 0.0000, G Loss: 10.1497\n",
            "Epoch [19/50] Batch 800/938  D Loss: 0.0001, G Loss: 10.3024\n",
            "Epoch [19/50] Batch 900/938  D Loss: 0.0001, G Loss: 10.5027\n",
            "Epoch [20/50] Batch 0/938  D Loss: 0.0000, G Loss: 10.6333\n",
            "Epoch [20/50] Batch 100/938  D Loss: 0.0000, G Loss: 10.8188\n",
            "Epoch [20/50] Batch 200/938  D Loss: 0.0000, G Loss: 10.7361\n",
            "Epoch [20/50] Batch 300/938  D Loss: 0.0000, G Loss: 10.7153\n",
            "Epoch [20/50] Batch 400/938  D Loss: 0.0000, G Loss: 10.8766\n",
            "Epoch [20/50] Batch 500/938  D Loss: 0.0000, G Loss: 10.9003\n",
            "Epoch [20/50] Batch 600/938  D Loss: 0.0003, G Loss: 11.1528\n",
            "Epoch [20/50] Batch 700/938  D Loss: 0.0000, G Loss: 11.1737\n",
            "Epoch [20/50] Batch 800/938  D Loss: 0.0000, G Loss: 11.4044\n",
            "Epoch [20/50] Batch 900/938  D Loss: 0.0000, G Loss: 11.5606\n",
            "Epoch [21/50] Batch 0/938  D Loss: 0.0000, G Loss: 11.4662\n",
            "Epoch [21/50] Batch 100/938  D Loss: 0.0000, G Loss: 11.5744\n",
            "Epoch [21/50] Batch 200/938  D Loss: 0.0000, G Loss: 11.8569\n",
            "Epoch [21/50] Batch 300/938  D Loss: 0.0000, G Loss: 11.9926\n",
            "Epoch [21/50] Batch 400/938  D Loss: 0.0000, G Loss: 12.0318\n",
            "Epoch [21/50] Batch 500/938  D Loss: 0.0000, G Loss: 11.9622\n",
            "Epoch [21/50] Batch 600/938  D Loss: 0.0000, G Loss: 11.7379\n",
            "Epoch [21/50] Batch 700/938  D Loss: 0.0000, G Loss: 10.6258\n",
            "Epoch [21/50] Batch 800/938  D Loss: 0.0132, G Loss: 7.5181\n",
            "Epoch [21/50] Batch 900/938  D Loss: 0.0007, G Loss: 9.0168\n",
            "Epoch [22/50] Batch 0/938  D Loss: 0.0001, G Loss: 9.7268\n",
            "Epoch [22/50] Batch 100/938  D Loss: 0.0001, G Loss: 9.3489\n",
            "Epoch [22/50] Batch 200/938  D Loss: 0.0000, G Loss: 10.3139\n",
            "Epoch [22/50] Batch 300/938  D Loss: 0.0001, G Loss: 9.9685\n",
            "Epoch [22/50] Batch 400/938  D Loss: 0.0000, G Loss: 10.1949\n",
            "Epoch [22/50] Batch 500/938  D Loss: 0.0000, G Loss: 10.5920\n",
            "Epoch [22/50] Batch 600/938  D Loss: 0.0000, G Loss: 10.3504\n",
            "Epoch [22/50] Batch 700/938  D Loss: 0.0003, G Loss: 8.7394\n",
            "Epoch [22/50] Batch 800/938  D Loss: 0.0002, G Loss: 9.0127\n",
            "Epoch [22/50] Batch 900/938  D Loss: 0.0001, G Loss: 10.2560\n",
            "Epoch [23/50] Batch 0/938  D Loss: 0.0002, G Loss: 9.0109\n",
            "Epoch [23/50] Batch 100/938  D Loss: 0.0000, G Loss: 10.9262\n",
            "Epoch [23/50] Batch 200/938  D Loss: 0.0000, G Loss: 11.3807\n",
            "Epoch [23/50] Batch 300/938  D Loss: 0.0000, G Loss: 11.6004\n",
            "Epoch [23/50] Batch 400/938  D Loss: 0.0000, G Loss: 11.6006\n",
            "Epoch [23/50] Batch 500/938  D Loss: 0.0000, G Loss: 11.6546\n",
            "Epoch [23/50] Batch 600/938  D Loss: 0.0000, G Loss: 11.4718\n",
            "Epoch [23/50] Batch 700/938  D Loss: 0.0000, G Loss: 11.8643\n",
            "Epoch [23/50] Batch 800/938  D Loss: 0.0000, G Loss: 11.0482\n",
            "Epoch [23/50] Batch 900/938  D Loss: 0.0000, G Loss: 11.2708\n",
            "Epoch [24/50] Batch 0/938  D Loss: 0.0001, G Loss: 9.9828\n",
            "Epoch [24/50] Batch 100/938  D Loss: 0.0000, G Loss: 12.1346\n",
            "Epoch [24/50] Batch 200/938  D Loss: 0.0000, G Loss: 12.0465\n",
            "Epoch [24/50] Batch 300/938  D Loss: 0.0001, G Loss: 16.1694\n",
            "Epoch [24/50] Batch 400/938  D Loss: 0.0000, G Loss: 13.3089\n",
            "Epoch [24/50] Batch 500/938  D Loss: 0.0000, G Loss: 13.0322\n",
            "Epoch [24/50] Batch 600/938  D Loss: 0.0000, G Loss: 12.9085\n",
            "Epoch [24/50] Batch 700/938  D Loss: 0.0000, G Loss: 13.3979\n",
            "Epoch [24/50] Batch 800/938  D Loss: 0.0000, G Loss: 13.2625\n",
            "Epoch [24/50] Batch 900/938  D Loss: 0.0000, G Loss: 13.4609\n",
            "Epoch [25/50] Batch 0/938  D Loss: 0.0000, G Loss: 13.5505\n",
            "Epoch [25/50] Batch 100/938  D Loss: 0.0000, G Loss: 13.5959\n",
            "Epoch [25/50] Batch 200/938  D Loss: 0.0000, G Loss: 13.3666\n",
            "Epoch [25/50] Batch 300/938  D Loss: 0.0000, G Loss: 13.6398\n",
            "Epoch [25/50] Batch 400/938  D Loss: 0.0000, G Loss: 13.8038\n",
            "Epoch [25/50] Batch 500/938  D Loss: 0.0000, G Loss: 13.9211\n",
            "Epoch [25/50] Batch 600/938  D Loss: 0.0000, G Loss: 13.9143\n",
            "Epoch [25/50] Batch 700/938  D Loss: 0.0000, G Loss: 14.0247\n",
            "Epoch [25/50] Batch 800/938  D Loss: 0.0000, G Loss: 14.0045\n",
            "Epoch [25/50] Batch 900/938  D Loss: 0.0000, G Loss: 14.0807\n",
            "Epoch [26/50] Batch 0/938  D Loss: 0.0000, G Loss: 14.2269\n",
            "Epoch [26/50] Batch 100/938  D Loss: 0.0000, G Loss: 14.0873\n",
            "Epoch [26/50] Batch 200/938  D Loss: 0.0000, G Loss: 14.2573\n",
            "Epoch [26/50] Batch 300/938  D Loss: 0.0000, G Loss: 14.1981\n",
            "Epoch [26/50] Batch 400/938  D Loss: 0.0000, G Loss: 14.3397\n",
            "Epoch [26/50] Batch 500/938  D Loss: 0.0000, G Loss: 14.4457\n",
            "Epoch [26/50] Batch 600/938  D Loss: 0.0000, G Loss: 14.4802\n",
            "Epoch [26/50] Batch 700/938  D Loss: 0.0000, G Loss: 14.6996\n",
            "Epoch [26/50] Batch 800/938  D Loss: 0.0000, G Loss: 13.8455\n",
            "Epoch [26/50] Batch 900/938  D Loss: 0.0000, G Loss: 14.5064\n",
            "Epoch [27/50] Batch 0/938  D Loss: 0.0000, G Loss: 14.6260\n",
            "Epoch [27/50] Batch 100/938  D Loss: 0.0000, G Loss: 14.5312\n",
            "Epoch [27/50] Batch 200/938  D Loss: 0.0000, G Loss: 14.6394\n",
            "Epoch [27/50] Batch 300/938  D Loss: 0.0000, G Loss: 14.8944\n",
            "Epoch [27/50] Batch 400/938  D Loss: 0.0000, G Loss: 14.7367\n",
            "Epoch [27/50] Batch 500/938  D Loss: 0.0000, G Loss: 14.9867\n",
            "Epoch [27/50] Batch 600/938  D Loss: 0.0000, G Loss: 15.2558\n",
            "Epoch [27/50] Batch 700/938  D Loss: 0.0000, G Loss: 15.2743\n",
            "Epoch [27/50] Batch 800/938  D Loss: 0.0000, G Loss: 15.4930\n",
            "Epoch [27/50] Batch 900/938  D Loss: 0.0000, G Loss: 15.4648\n",
            "Epoch [28/50] Batch 0/938  D Loss: 0.0000, G Loss: 15.3828\n",
            "Epoch [28/50] Batch 100/938  D Loss: 0.0000, G Loss: 15.3853\n",
            "Epoch [28/50] Batch 200/938  D Loss: 0.0000, G Loss: 15.6070\n",
            "Epoch [28/50] Batch 300/938  D Loss: 0.0000, G Loss: 15.7112\n",
            "Epoch [28/50] Batch 400/938  D Loss: 0.0000, G Loss: 15.4905\n",
            "Epoch [28/50] Batch 500/938  D Loss: 0.0000, G Loss: 15.4633\n",
            "Epoch [28/50] Batch 600/938  D Loss: 0.0000, G Loss: 15.6090\n",
            "Epoch [28/50] Batch 700/938  D Loss: 0.0000, G Loss: 15.6897\n",
            "Epoch [28/50] Batch 800/938  D Loss: 0.0000, G Loss: 15.8449\n",
            "Epoch [28/50] Batch 900/938  D Loss: 0.0000, G Loss: 15.5741\n",
            "Epoch [29/50] Batch 0/938  D Loss: 0.0000, G Loss: 14.8743\n",
            "Epoch [29/50] Batch 100/938  D Loss: 0.0000, G Loss: 15.7624\n",
            "Epoch [29/50] Batch 200/938  D Loss: 0.0000, G Loss: 15.8030\n",
            "Epoch [29/50] Batch 300/938  D Loss: 0.0000, G Loss: 16.0442\n",
            "Epoch [29/50] Batch 400/938  D Loss: 0.0000, G Loss: 16.1190\n",
            "Epoch [29/50] Batch 500/938  D Loss: 0.0000, G Loss: 15.8844\n",
            "Epoch [29/50] Batch 600/938  D Loss: 0.0000, G Loss: 16.1545\n",
            "Epoch [29/50] Batch 700/938  D Loss: 0.0000, G Loss: 16.2602\n",
            "Epoch [29/50] Batch 800/938  D Loss: 0.0000, G Loss: 16.4267\n",
            "Epoch [29/50] Batch 900/938  D Loss: 0.0000, G Loss: 16.2341\n",
            "Epoch [30/50] Batch 0/938  D Loss: 0.0000, G Loss: 16.3455\n",
            "Epoch [30/50] Batch 100/938  D Loss: 0.0000, G Loss: 16.5698\n",
            "Epoch [30/50] Batch 200/938  D Loss: 0.0000, G Loss: 16.2655\n",
            "Epoch [30/50] Batch 300/938  D Loss: 0.0000, G Loss: 16.5999\n",
            "Epoch [30/50] Batch 400/938  D Loss: 0.0000, G Loss: 15.8548\n",
            "Epoch [30/50] Batch 500/938  D Loss: 0.0000, G Loss: 16.2339\n",
            "Epoch [30/50] Batch 600/938  D Loss: 0.0000, G Loss: 14.3987\n",
            "Epoch [30/50] Batch 700/938  D Loss: 0.0009, G Loss: 7.6005\n",
            "Epoch [30/50] Batch 800/938  D Loss: 0.0008, G Loss: 7.8638\n",
            "Epoch [30/50] Batch 900/938  D Loss: 0.0163, G Loss: 6.3437\n",
            "Epoch [31/50] Batch 0/938  D Loss: 0.0011, G Loss: 7.5527\n",
            "Epoch [31/50] Batch 100/938  D Loss: 0.0005, G Loss: 8.5924\n",
            "Epoch [31/50] Batch 200/938  D Loss: 0.0003, G Loss: 9.0305\n",
            "Epoch [31/50] Batch 300/938  D Loss: 0.0006, G Loss: 8.0157\n",
            "Epoch [31/50] Batch 400/938  D Loss: 0.0006, G Loss: 8.2470\n",
            "Epoch [31/50] Batch 500/938  D Loss: 0.0054, G Loss: 7.8478\n",
            "Epoch [31/50] Batch 600/938  D Loss: 0.0001, G Loss: 9.8891\n",
            "Epoch [31/50] Batch 700/938  D Loss: 0.0002, G Loss: 9.6727\n",
            "Epoch [31/50] Batch 800/938  D Loss: 0.0002, G Loss: 9.0837\n",
            "Epoch [31/50] Batch 900/938  D Loss: 0.0001, G Loss: 10.6672\n",
            "Epoch [32/50] Batch 0/938  D Loss: 0.0001, G Loss: 10.5594\n",
            "Epoch [32/50] Batch 100/938  D Loss: 0.0001, G Loss: 10.4360\n",
            "Epoch [32/50] Batch 200/938  D Loss: 0.0000, G Loss: 10.8596\n",
            "Epoch [32/50] Batch 300/938  D Loss: 0.0001, G Loss: 11.4112\n",
            "Epoch [32/50] Batch 400/938  D Loss: 0.0001, G Loss: 11.6628\n",
            "Epoch [32/50] Batch 500/938  D Loss: 0.0000, G Loss: 11.8608\n",
            "Epoch [32/50] Batch 600/938  D Loss: 0.0000, G Loss: 11.9593\n",
            "Epoch [32/50] Batch 700/938  D Loss: 0.0000, G Loss: 11.5197\n",
            "Epoch [32/50] Batch 800/938  D Loss: 0.0000, G Loss: 11.4951\n",
            "Epoch [32/50] Batch 900/938  D Loss: 0.0000, G Loss: 11.9949\n",
            "Epoch [33/50] Batch 0/938  D Loss: 0.0001, G Loss: 11.0142\n",
            "Epoch [33/50] Batch 100/938  D Loss: 0.0000, G Loss: 11.7339\n",
            "Epoch [33/50] Batch 200/938  D Loss: 0.0000, G Loss: 12.3034\n",
            "Epoch [33/50] Batch 300/938  D Loss: 0.0000, G Loss: 12.3027\n",
            "Epoch [33/50] Batch 400/938  D Loss: 0.0000, G Loss: 11.5427\n",
            "Epoch [33/50] Batch 500/938  D Loss: 0.0000, G Loss: 11.9048\n",
            "Epoch [33/50] Batch 600/938  D Loss: 0.0000, G Loss: 10.5095\n",
            "Epoch [33/50] Batch 700/938  D Loss: 0.0000, G Loss: 11.0431\n",
            "Epoch [33/50] Batch 800/938  D Loss: 0.0000, G Loss: 12.2089\n",
            "Epoch [33/50] Batch 900/938  D Loss: 0.0000, G Loss: 12.0774\n",
            "Epoch [34/50] Batch 0/938  D Loss: 0.0000, G Loss: 11.6790\n",
            "Epoch [34/50] Batch 100/938  D Loss: 0.0000, G Loss: 12.6524\n",
            "Epoch [34/50] Batch 200/938  D Loss: 0.0000, G Loss: 13.0794\n",
            "Epoch [34/50] Batch 300/938  D Loss: 0.0000, G Loss: 12.7165\n",
            "Epoch [34/50] Batch 400/938  D Loss: 0.0000, G Loss: 13.2423\n",
            "Epoch [34/50] Batch 500/938  D Loss: 0.0000, G Loss: 12.8864\n",
            "Epoch [34/50] Batch 600/938  D Loss: 0.0000, G Loss: 13.2554\n",
            "Epoch [34/50] Batch 700/938  D Loss: 0.0000, G Loss: 13.5934\n",
            "Epoch [34/50] Batch 800/938  D Loss: 0.0000, G Loss: 12.9710\n",
            "Epoch [34/50] Batch 900/938  D Loss: 0.0000, G Loss: 13.5868\n",
            "Epoch [35/50] Batch 0/938  D Loss: 0.0000, G Loss: 13.7506\n",
            "Epoch [35/50] Batch 100/938  D Loss: 0.0000, G Loss: 13.8893\n",
            "Epoch [35/50] Batch 200/938  D Loss: 0.0000, G Loss: 14.0526\n",
            "Epoch [35/50] Batch 300/938  D Loss: 0.0000, G Loss: 14.2703\n",
            "Epoch [35/50] Batch 400/938  D Loss: 0.0000, G Loss: 14.3753\n",
            "Epoch [35/50] Batch 500/938  D Loss: 0.0000, G Loss: 14.4503\n",
            "Epoch [35/50] Batch 600/938  D Loss: 0.0000, G Loss: 14.1272\n",
            "Epoch [35/50] Batch 700/938  D Loss: 0.0000, G Loss: 12.3382\n",
            "Epoch [35/50] Batch 800/938  D Loss: 6.4124, G Loss: 11.6323\n",
            "Epoch [35/50] Batch 900/938  D Loss: 0.0007, G Loss: 9.0919\n",
            "Epoch [36/50] Batch 0/938  D Loss: 0.0001, G Loss: 9.5595\n",
            "Epoch [36/50] Batch 100/938  D Loss: 0.0000, G Loss: 11.0780\n",
            "Epoch [36/50] Batch 200/938  D Loss: 0.0000, G Loss: 11.4520\n",
            "Epoch [36/50] Batch 300/938  D Loss: 0.0000, G Loss: 11.5478\n",
            "Epoch [36/50] Batch 400/938  D Loss: 0.0000, G Loss: 11.5108\n",
            "Epoch [36/50] Batch 500/938  D Loss: 0.0000, G Loss: 12.1655\n",
            "Epoch [36/50] Batch 600/938  D Loss: 0.0000, G Loss: 12.5872\n",
            "Epoch [36/50] Batch 700/938  D Loss: 0.0000, G Loss: 12.8132\n",
            "Epoch [36/50] Batch 800/938  D Loss: 0.0000, G Loss: 13.0290\n",
            "Epoch [36/50] Batch 900/938  D Loss: 0.0000, G Loss: 12.7223\n",
            "Epoch [37/50] Batch 0/938  D Loss: 0.0000, G Loss: 12.4416\n",
            "Epoch [37/50] Batch 100/938  D Loss: 0.0000, G Loss: 12.4379\n",
            "Epoch [37/50] Batch 200/938  D Loss: 0.0000, G Loss: 12.6227\n",
            "Epoch [37/50] Batch 300/938  D Loss: 0.0000, G Loss: 12.8268\n",
            "Epoch [37/50] Batch 400/938  D Loss: 0.0000, G Loss: 12.6807\n",
            "Epoch [37/50] Batch 500/938  D Loss: 0.0000, G Loss: 13.2692\n",
            "Epoch [37/50] Batch 600/938  D Loss: 0.0000, G Loss: 13.0454\n",
            "Epoch [37/50] Batch 700/938  D Loss: 0.0000, G Loss: 13.3428\n",
            "Epoch [37/50] Batch 800/938  D Loss: 0.0000, G Loss: 13.7487\n",
            "Epoch [37/50] Batch 900/938  D Loss: 0.0000, G Loss: 13.8838\n",
            "Epoch [38/50] Batch 0/938  D Loss: 0.0000, G Loss: 13.9877\n",
            "Epoch [38/50] Batch 100/938  D Loss: 0.0000, G Loss: 14.0672\n",
            "Epoch [38/50] Batch 200/938  D Loss: 0.0000, G Loss: 14.2369\n",
            "Epoch [38/50] Batch 300/938  D Loss: 0.0000, G Loss: 14.4109\n",
            "Epoch [38/50] Batch 400/938  D Loss: 0.0000, G Loss: 14.4154\n",
            "Epoch [38/50] Batch 500/938  D Loss: 0.0000, G Loss: 13.7408\n",
            "Epoch [38/50] Batch 600/938  D Loss: 0.0000, G Loss: 13.7644\n",
            "Epoch [38/50] Batch 700/938  D Loss: 0.0000, G Loss: 11.4457\n",
            "Epoch [38/50] Batch 800/938  D Loss: 0.0039, G Loss: 7.2084\n",
            "Epoch [38/50] Batch 900/938  D Loss: 0.0010, G Loss: 7.3991\n",
            "Epoch [39/50] Batch 0/938  D Loss: 0.0036, G Loss: 8.4518\n",
            "Epoch [39/50] Batch 100/938  D Loss: 0.0003, G Loss: 8.9723\n",
            "Epoch [39/50] Batch 200/938  D Loss: 0.0002, G Loss: 9.6335\n",
            "Epoch [39/50] Batch 300/938  D Loss: 0.0003, G Loss: 9.3033\n",
            "Epoch [39/50] Batch 400/938  D Loss: 0.0001, G Loss: 9.7443\n",
            "Epoch [39/50] Batch 500/938  D Loss: 0.0001, G Loss: 9.5607\n",
            "Epoch [39/50] Batch 600/938  D Loss: 0.0001, G Loss: 10.1010\n",
            "Epoch [39/50] Batch 700/938  D Loss: 0.0001, G Loss: 9.9892\n",
            "Epoch [39/50] Batch 800/938  D Loss: 0.0000, G Loss: 10.9781\n",
            "Epoch [39/50] Batch 900/938  D Loss: 0.0000, G Loss: 11.2639\n",
            "Epoch [40/50] Batch 0/938  D Loss: 0.0001, G Loss: 9.9157\n",
            "Epoch [40/50] Batch 100/938  D Loss: 0.0000, G Loss: 11.1420\n",
            "Epoch [40/50] Batch 200/938  D Loss: 0.0000, G Loss: 10.7256\n",
            "Epoch [40/50] Batch 300/938  D Loss: 0.0000, G Loss: 11.6154\n",
            "Epoch [40/50] Batch 400/938  D Loss: 0.0000, G Loss: 11.9579\n",
            "Epoch [40/50] Batch 500/938  D Loss: 0.0000, G Loss: 12.0759\n",
            "Epoch [40/50] Batch 600/938  D Loss: 0.0000, G Loss: 12.2599\n",
            "Epoch [40/50] Batch 700/938  D Loss: 0.0000, G Loss: 12.0433\n",
            "Epoch [40/50] Batch 800/938  D Loss: 0.0000, G Loss: 12.4519\n",
            "Epoch [40/50] Batch 900/938  D Loss: 0.0000, G Loss: 11.3762\n",
            "Epoch [41/50] Batch 0/938  D Loss: 0.0000, G Loss: 11.4643\n",
            "Epoch [41/50] Batch 100/938  D Loss: 0.0001, G Loss: 10.2884\n",
            "Epoch [41/50] Batch 200/938  D Loss: 0.0000, G Loss: 11.2005\n",
            "Epoch [41/50] Batch 300/938  D Loss: 0.0000, G Loss: 12.2383\n",
            "Epoch [41/50] Batch 400/938  D Loss: 0.0000, G Loss: 12.3738\n",
            "Epoch [41/50] Batch 500/938  D Loss: 0.0000, G Loss: 12.7643\n",
            "Epoch [41/50] Batch 600/938  D Loss: 0.0000, G Loss: 12.9316\n",
            "Epoch [41/50] Batch 700/938  D Loss: 0.0000, G Loss: 13.0381\n",
            "Epoch [41/50] Batch 800/938  D Loss: 0.0000, G Loss: 12.9192\n",
            "Epoch [41/50] Batch 900/938  D Loss: 0.0000, G Loss: 13.1791\n",
            "Epoch [42/50] Batch 0/938  D Loss: 0.0000, G Loss: 13.2524\n",
            "Epoch [42/50] Batch 100/938  D Loss: 0.0000, G Loss: 13.4384\n",
            "Epoch [42/50] Batch 200/938  D Loss: 0.0000, G Loss: 13.5517\n",
            "Epoch [42/50] Batch 300/938  D Loss: 0.0000, G Loss: 13.6930\n",
            "Epoch [42/50] Batch 400/938  D Loss: 0.0000, G Loss: 13.7369\n",
            "Epoch [42/50] Batch 500/938  D Loss: 0.0000, G Loss: 13.6969\n",
            "Epoch [42/50] Batch 600/938  D Loss: 0.0000, G Loss: 13.7798\n",
            "Epoch [42/50] Batch 700/938  D Loss: 0.0000, G Loss: 13.9774\n",
            "Epoch [42/50] Batch 800/938  D Loss: 0.0000, G Loss: 14.1473\n",
            "Epoch [42/50] Batch 900/938  D Loss: 0.0000, G Loss: 14.0261\n",
            "Epoch [43/50] Batch 0/938  D Loss: 0.0000, G Loss: 14.1417\n",
            "Epoch [43/50] Batch 100/938  D Loss: 0.0000, G Loss: 14.2651\n",
            "Epoch [43/50] Batch 200/938  D Loss: 0.0000, G Loss: 14.2283\n",
            "Epoch [43/50] Batch 300/938  D Loss: 0.0000, G Loss: 14.4133\n",
            "Epoch [43/50] Batch 400/938  D Loss: 0.0000, G Loss: 14.4079\n",
            "Epoch [43/50] Batch 500/938  D Loss: 0.0000, G Loss: 14.5770\n",
            "Epoch [43/50] Batch 600/938  D Loss: 0.0000, G Loss: 14.6618\n",
            "Epoch [43/50] Batch 700/938  D Loss: 0.0000, G Loss: 14.7445\n",
            "Epoch [43/50] Batch 800/938  D Loss: 0.0000, G Loss: 14.8118\n",
            "Epoch [43/50] Batch 900/938  D Loss: 0.0000, G Loss: 14.9497\n",
            "Epoch [44/50] Batch 0/938  D Loss: 0.0000, G Loss: 14.9510\n",
            "Epoch [44/50] Batch 100/938  D Loss: 0.0000, G Loss: 14.9555\n",
            "Epoch [44/50] Batch 200/938  D Loss: 0.0000, G Loss: 13.9330\n",
            "Epoch [44/50] Batch 300/938  D Loss: 0.0000, G Loss: 14.5040\n",
            "Epoch [44/50] Batch 400/938  D Loss: 0.0000, G Loss: 14.7873\n",
            "Epoch [44/50] Batch 500/938  D Loss: 0.0000, G Loss: 14.9580\n",
            "Epoch [44/50] Batch 600/938  D Loss: 0.0000, G Loss: 15.0196\n",
            "Epoch [44/50] Batch 700/938  D Loss: 0.0000, G Loss: 15.1734\n",
            "Epoch [44/50] Batch 800/938  D Loss: 0.0000, G Loss: 15.1356\n",
            "Epoch [44/50] Batch 900/938  D Loss: 0.0000, G Loss: 15.2756\n",
            "Epoch [45/50] Batch 0/938  D Loss: 0.0000, G Loss: 15.3121\n",
            "Epoch [45/50] Batch 100/938  D Loss: 0.0000, G Loss: 15.3754\n",
            "Epoch [45/50] Batch 200/938  D Loss: 0.0000, G Loss: 15.4151\n",
            "Epoch [45/50] Batch 300/938  D Loss: 0.0000, G Loss: 15.5082\n",
            "Epoch [45/50] Batch 400/938  D Loss: 0.0000, G Loss: 15.6844\n",
            "Epoch [45/50] Batch 500/938  D Loss: 0.0000, G Loss: 15.5508\n",
            "Epoch [45/50] Batch 600/938  D Loss: 0.0000, G Loss: 15.5654\n",
            "Epoch [45/50] Batch 700/938  D Loss: 0.0000, G Loss: 15.5556\n",
            "Epoch [45/50] Batch 800/938  D Loss: 0.0000, G Loss: 15.7166\n",
            "Epoch [45/50] Batch 900/938  D Loss: 0.0000, G Loss: 15.8852\n",
            "Epoch [46/50] Batch 0/938  D Loss: 0.0000, G Loss: 15.8610\n",
            "Epoch [46/50] Batch 100/938  D Loss: 0.0000, G Loss: 15.9288\n",
            "Epoch [46/50] Batch 200/938  D Loss: 0.0000, G Loss: 16.0479\n",
            "Epoch [46/50] Batch 300/938  D Loss: 0.0000, G Loss: 16.1168\n",
            "Epoch [46/50] Batch 400/938  D Loss: 0.0000, G Loss: 16.2596\n",
            "Epoch [46/50] Batch 500/938  D Loss: 0.0000, G Loss: 16.3233\n",
            "Epoch [46/50] Batch 600/938  D Loss: 0.0000, G Loss: 16.3590\n",
            "Epoch [46/50] Batch 700/938  D Loss: 0.0000, G Loss: 16.4840\n",
            "Epoch [46/50] Batch 800/938  D Loss: 0.0000, G Loss: 16.3602\n",
            "Epoch [46/50] Batch 900/938  D Loss: 0.0000, G Loss: 16.4196\n",
            "Epoch [47/50] Batch 0/938  D Loss: 0.0000, G Loss: 16.4639\n",
            "Epoch [47/50] Batch 100/938  D Loss: 0.0000, G Loss: 16.4473\n",
            "Epoch [47/50] Batch 200/938  D Loss: 0.0000, G Loss: 16.6082\n",
            "Epoch [47/50] Batch 300/938  D Loss: 0.0000, G Loss: 16.7353\n",
            "Epoch [47/50] Batch 400/938  D Loss: 0.0000, G Loss: 16.8061\n",
            "Epoch [47/50] Batch 500/938  D Loss: 0.0000, G Loss: 16.9210\n",
            "Epoch [47/50] Batch 600/938  D Loss: 0.0000, G Loss: 17.0406\n",
            "Epoch [47/50] Batch 700/938  D Loss: 0.0000, G Loss: 17.0646\n",
            "Epoch [47/50] Batch 800/938  D Loss: 0.0000, G Loss: 17.0040\n",
            "Epoch [47/50] Batch 900/938  D Loss: 0.0000, G Loss: 17.1170\n",
            "Epoch [48/50] Batch 0/938  D Loss: 0.0000, G Loss: 17.1754\n",
            "Epoch [48/50] Batch 100/938  D Loss: 0.0000, G Loss: 17.2852\n",
            "Epoch [48/50] Batch 200/938  D Loss: 0.0000, G Loss: 17.2472\n",
            "Epoch [48/50] Batch 300/938  D Loss: 0.0000, G Loss: 15.7712\n",
            "Epoch [48/50] Batch 400/938  D Loss: 0.0000, G Loss: 16.2635\n",
            "Epoch [48/50] Batch 500/938  D Loss: 0.0000, G Loss: 16.6994\n",
            "Epoch [48/50] Batch 600/938  D Loss: 0.0000, G Loss: 17.0379\n",
            "Epoch [48/50] Batch 700/938  D Loss: 0.0000, G Loss: 17.2667\n",
            "Epoch [48/50] Batch 800/938  D Loss: 0.0000, G Loss: 17.3841\n",
            "Epoch [48/50] Batch 900/938  D Loss: 0.0000, G Loss: 17.3661\n",
            "Epoch [49/50] Batch 0/938  D Loss: 0.0000, G Loss: 17.3623\n",
            "Epoch [49/50] Batch 100/938  D Loss: 0.0000, G Loss: 17.4564\n",
            "Epoch [49/50] Batch 200/938  D Loss: 0.0000, G Loss: 17.6394\n",
            "Epoch [49/50] Batch 300/938  D Loss: 0.0000, G Loss: 17.5910\n",
            "Epoch [49/50] Batch 400/938  D Loss: 0.0000, G Loss: 15.0269\n",
            "Epoch [49/50] Batch 500/938  D Loss: 100.0000, G Loss: 0.0000\n",
            "Epoch [49/50] Batch 600/938  D Loss: 100.0000, G Loss: 0.0000\n",
            "Epoch [49/50] Batch 700/938  D Loss: 100.0000, G Loss: 0.0000\n",
            "Epoch [49/50] Batch 800/938  D Loss: 100.0000, G Loss: 0.0000\n",
            "Epoch [49/50] Batch 900/938  D Loss: 100.0000, G Loss: 0.0000\n",
            "Epoch [50/50] Batch 0/938  D Loss: 100.0000, G Loss: 0.0000\n",
            "Epoch [50/50] Batch 100/938  D Loss: 100.0000, G Loss: 0.0000\n",
            "Epoch [50/50] Batch 200/938  D Loss: 100.0000, G Loss: 0.0000\n",
            "Epoch [50/50] Batch 300/938  D Loss: 100.0000, G Loss: 0.0000\n",
            "Epoch [50/50] Batch 400/938  D Loss: 100.0000, G Loss: 0.0000\n",
            "Epoch [50/50] Batch 500/938  D Loss: 100.0000, G Loss: 0.0000\n",
            "Epoch [50/50] Batch 600/938  D Loss: 100.0000, G Loss: 0.0000\n",
            "Epoch [50/50] Batch 700/938  D Loss: 100.0000, G Loss: 0.0000\n",
            "Epoch [50/50] Batch 800/938  D Loss: 100.0000, G Loss: 0.0000\n",
            "Epoch [50/50] Batch 900/938  D Loss: 100.0000, G Loss: 0.0000\n"
          ]
        }
      ],
      "source": [
        "for epoch in range(epochs):\n",
        "    for i, (real_imgs, _) in enumerate(dataloader):\n",
        "        real_imgs = real_imgs.to(device)\n",
        "        batch_size = real_imgs.size(0)\n",
        "\n",
        "        # Labels\n",
        "        real_labels = torch.ones(batch_size, 1, device=device)\n",
        "        fake_labels = torch.zeros(batch_size, 1, device=device)\n",
        "\n",
        "        # Train Discriminator\n",
        "        z = torch.randn(batch_size, latent_dim, device=device)\n",
        "        fake_imgs = generator(z)\n",
        "\n",
        "        real_loss = criterion(discriminator(real_imgs), real_labels)\n",
        "        fake_loss = criterion(discriminator(fake_imgs.detach()), fake_labels)\n",
        "        d_loss = real_loss + fake_loss\n",
        "\n",
        "        d_optimizer.zero_grad()\n",
        "        d_loss.backward()\n",
        "        d_optimizer.step()\n",
        "\n",
        "        # Train Generator\n",
        "        fake_imgs = generator(z)\n",
        "        g_loss = criterion(discriminator(fake_imgs), real_labels)\n",
        "\n",
        "        g_optimizer.zero_grad()\n",
        "        g_loss.backward()\n",
        "        g_optimizer.step()\n",
        "\n",
        "        if i % 100 == 0:\n",
        "            print(f\"Epoch [{epoch+1}/{epochs}] Batch {i}/{len(dataloader)}  D Loss: {d_loss.item():.4f}, G Loss: {g_loss.item():.4f}\")\n"
      ]
    },
    {
      "cell_type": "markdown",
      "metadata": {
        "id": "UmAEpUORThVC"
      },
      "source": [
        "**Evaluating & Visualizing Results**\n",
        "\n",
        "After training, the Generator is used to create new synthetic images.\n",
        "\n",
        "The generated images are displayed using matplotlib and torchvision.utils.make_grid.\n",
        "\n",
        "Evaluation metrics like FID (Fréchet Inception Distance) can be used for further analysis."
      ]
    },
    {
      "cell_type": "code",
      "execution_count": 11,
      "metadata": {
        "colab": {
          "base_uri": "https://localhost:8080/",
          "height": 218
        },
        "id": "Jr8UUkyfPpLy",
        "outputId": "a155e643-7326-402a-dca1-b6c2bfcd9dd6"
      },
      "outputs": [
        {
          "output_type": "display_data",
          "data": {
            "text/plain": [
              "<Figure size 800x800 with 1 Axes>"
            ],
            "image/png": "[encoded data removed]"
          },
          "metadata": {}
        }
      ],
      "source": [
        "# Generate and visualize images\n",
        "z = torch.randn(16, latent_dim, device=device)\n",
        "generated_imgs = generator(z).cpu().detach()\n",
        "plt.figure(figsize=(8, 8))\n",
        "plt.axis(\"off\")\n",
        "plt.title(\"Generated Images\")\n",
        "plt.imshow(np.transpose(vutils.make_grid(generated_imgs, padding=2, normalize=True), (1, 2, 0)))\n",
        "plt.show()\n"
      ]
    },
    {
      "cell_type": "markdown",
      "source": [
        " **Load the Generated Images and Original Images**\n",
        ""
      ],
      "metadata": {
        "id": "c7VOtjJkfXdn"
      }
    },
    {
      "cell_type": "code",
      "execution_count": 15,
      "metadata": {
        "colab": {
          "base_uri": "https://localhost:8080/",
          "height": 639
        },
        "id": "98eebdfc",
        "outputId": "4292f132-f55f-412b-ecab-0fbadbc0489b"
      },
      "outputs": [
        {
          "output_type": "display_data",
          "data": {
            "text/plain": [
              "<Figure size 1500x500 with 10 Axes>"
            ],
            "image/png": "[encoded data removed]"
          },
          "metadata": {}
        },
        {
          "output_type": "display_data",
          "data": {
            "text/plain": [
              "<Figure size 1500x500 with 10 Axes>"
            ],
            "image/png": "[encoded data removed]"
          },
          "metadata": {}
        }
      ],
      "source": [
        "\n",
        "import torch\n",
        "import matplotlib.pyplot as plt\n",
        "import numpy as np\n",
        "\n",
        "# Function to display images\n",
        "def show_images(images, title, num_images=10):\n",
        "    fig, axes = plt.subplots(1, num_images, figsize=(15, 5))\n",
        "    for i in range(num_images):\n",
        "        if images.shape[1] == 1:\n",
        "            axes[i].imshow(images[i].squeeze(), cmap='gray')\n",
        "        else:  # RGB\n",
        "            axes[i].imshow(images[i].transpose(1, 2, 0))\n",
        "        axes[i].axis('off')\n",
        "    plt.suptitle(title)\n",
        "    plt.show()\n",
        "\n",
        "# Function to compare real and generated images side by side\n",
        "def compare_images(real, fake, num_images=10):\n",
        "    fig, axes = plt.subplots(2, num_images, figsize=(15, 5))\n",
        "    for i in range(num_images):\n",
        "        if real.shape[1] == 1:  # Grayscale\n",
        "            axes[0, i].imshow(real[i].squeeze(), cmap='gray')\n",
        "            axes[1, i].imshow(fake[i].squeeze(), cmap='gray')\n",
        "        else:  # RGB\n",
        "            axes[0, i].imshow(real[i].transpose(1, 2, 0))\n",
        "            axes[1, i].imshow(fake[i].transpose(1, 2, 0))\n",
        "\n",
        "        axes[0, i].axis('off')\n",
        "        axes[1, i].axis('off')\n",
        "\n",
        "    axes[0, 0].set_ylabel(\"Original\")\n",
        "    axes[1, 0].set_ylabel(\"Generated\")\n",
        "    plt.show()\n",
        "\n",
        "\n",
        "def visualize_tsne(real, fake):\n",
        "    real_features = real.reshape(real.shape[0], -1)\n",
        "    fake_features = fake.reshape(fake.shape[0], -1)\n",
        "\n",
        "    all_features = np.vstack((real_features, fake_features))\n",
        "    labels = np.array([0] * len(real_features) + [1] * len(fake_features))  # 0 for real, 1 for fake\n",
        "\n",
        "    tsne = TSNE(n_components=2, random_state=42, perplexity=5)\n",
        "    embedded = tsne.fit_transform(all_features)\n",
        "\n",
        "    plt.scatter(embedded[:len(real_features), 0], embedded[:len(real_features), 1], label=\"Real\", alpha=0.5)\n",
        "    plt.scatter(embedded[len(real_features):, 0], embedded[len(real_features):, 1], label=\"Fake\", alpha=0.5)\n",
        "    plt.legend()\n",
        "    plt.title(\"t-SNE Visualization of Real vs. Generated Images\")\n",
        "    plt.show()\n",
        "\n",
        "generator.eval()\n",
        "real_images, _ = next(iter(dataloader))\n",
        "real_images = real_images[:10].cpu().numpy()\n",
        "\n",
        "with torch.no_grad():\n",
        "    noise = torch.randn(10, latent_dim, device=device)\n",
        "    fake_images = generator(noise).cpu().numpy()\n",
        "\n",
        "# Display images\n",
        "show_images(real_images, \"Original Images\")\n",
        "show_images(fake_images, \"Generated Images\")\n"
      ]
    },
    {
      "cell_type": "markdown",
      "source": [
        "**Side-by-Side Comparison**\n"
      ],
      "metadata": {
        "id": "4fUXryGuf6AP"
      }
    },
    {
      "cell_type": "code",
      "source": [
        "def compare_images(real, fake, num_images=10):\n",
        "    fig, axes = plt.subplots(2, num_images, figsize=(15, 5))\n",
        "    for i in range(num_images):\n",
        "        if real.shape[1] == 1:  # Grayscale\n",
        "            axes[0, i].imshow(real[i].squeeze(), cmap='gray')\n",
        "            axes[1, i].imshow(fake[i].squeeze(), cmap='gray')\n",
        "        else:  # RGB\n",
        "            axes[0, i].imshow(real[i].transpose(1, 2, 0))\n",
        "            axes[1, i].imshow(fake[i].transpose(1, 2, 0))\n",
        "\n",
        "        axes[0, i].axis('off')\n",
        "        axes[1, i].axis('off')\n",
        "\n",
        "    axes[0, 0].set_ylabel(\"Original\")\n",
        "    axes[1, 0].set_ylabel(\"Generated\")\n",
        "    plt.show()\n",
        "\n",
        "compare_images(real_images, fake_images)"
      ],
      "metadata": {
        "colab": {
          "base_uri": "https://localhost:8080/",
          "height": 345
        },
        "id": "818FLV-3fx3o",
        "outputId": "cb39f187-7ba6-46f4-dd1b-34f6e98f3b45"
      },
      "execution_count": 16,
      "outputs": [
        {
          "output_type": "display_data",
          "data": {
            "text/plain": [
              "<Figure size 1500x500 with 20 Axes>"
            ],
            "image/png": "[encoded data removed]"
          },
          "metadata": {}
        }
      ]
    },
    {
      "cell_type": "markdown",
      "source": [
        "**Use t-SNE for Feature Space Compariso**\n",
        "To analyze if generated images are similar to the original ones in feature space"
      ],
      "metadata": {
        "id": "Mauyt_frgTD3"
      }
    },
    {
      "cell_type": "code",
      "source": [
        "from sklearn.manifold import TSNE\n",
        "real_features = real_images.reshape(real_images.shape[0], -1)\n",
        "fake_features = fake_images.reshape(fake_images.shape[0], -1)\n",
        "\n",
        "all_features = np.vstack((real_features, fake_features))\n",
        "labels = np.array([0] * len(real_features) + [1] * len(fake_features))  # 0 for real, 1 for fake\n",
        "\n",
        "tsne = TSNE(n_components=2, random_state=42, perplexity=5)\n",
        "embedded = tsne.fit_transform(all_features)\n",
        "\n",
        "plt.scatter(embedded[:len(real_features), 0], embedded[:len(real_features), 1], label=\"Real\", alpha=0.5)\n",
        "plt.scatter(embedded[len(real_features):, 0], embedded[len(real_features):, 1], label=\"Fake\", alpha=0.5)\n",
        "plt.legend()\n",
        "plt.title(\"t-SNE Visualization of Real vs. Generated Images\")\n",
        "plt.show()\n"
      ],
      "metadata": {
        "colab": {
          "base_uri": "https://localhost:8080/",
          "height": 452
        },
        "id": "aQVvJg3ngIAO",
        "outputId": "3fc2f30b-c3ca-4d90-8c57-f30b4daf5970"
      },
      "execution_count": 18,
      "outputs": [
        {
          "output_type": "display_data",
          "data": {
            "text/plain": [
              "<Figure size 640x480 with 1 Axes>"
            ],
            "image/png": "[encoded data removed]"
          },
          "metadata": {}
        }
      ]
    },
    {
      "cell_type": "markdown",
      "metadata": {
        "id": "6MTpxiS0TwQR"
      },
      "source": [
        "**Conclusion**\n",
        "\n",
        "This project successfully implements a lightweight GAN optimized for Google Colab.\n",
        "\n",
        "The model generates synthetic MNIST/Fashion-MNIST images efficiently on limited hardware.\n",
        "\n",
        "Future work includes experimenting with CNN-based architectures like DCGAN for improved results."
      ]
    }
  ],
  "metadata": {
    "accelerator": "TPU",
    "colab": {
      "gpuType": "V28",
      "provenance": []
    },
    "kernelspec": {
      "display_name": "Python 3",
      "name": "python3"
    },
    "language_info": {
      "name": "python"
    }
  },
  "nbformat": 4,
  "nbformat_minor": 0
}